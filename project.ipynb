{
  "cells": [
    {
      "cell_type": "code",
      "execution_count": 1,
      "metadata": {
        "colab": {
          "base_uri": "https://localhost:8080/"
        },
        "id": "bK4jTypTSyCU",
        "outputId": "ee2831a5-e43b-4d8c-c604-c33abf52c41a"
      },
      "outputs": [
        {
          "name": "stdout",
          "output_type": "stream",
          "text": [
            "Found existing installation: nltk 3.9.1\n",
            "Uninstalling nltk-3.9.1:\n",
            "  Successfully uninstalled nltk-3.9.1\n",
            "Note: you may need to restart the kernel to use updated packages.\n"
          ]
        }
      ],
      "source": [
        "pip uninstall nltk -y\n"
      ]
    },
    {
      "cell_type": "code",
      "execution_count": 2,
      "metadata": {
        "id": "lJn4hiBwShh2"
      },
      "outputs": [],
      "source": [
        "import shutil\n",
        "\n",
        "shutil.rmtree('/root/nltk_data', ignore_errors=True)\n",
        "shutil.rmtree('/usr/share/nltk_data', ignore_errors=True)\n",
        "shutil.rmtree('/usr/local/share/nltk_data', ignore_errors=True)\n",
        "shutil.rmtree('/usr/lib/nltk_data', ignore_errors=True)\n"
      ]
    },
    {
      "cell_type": "code",
      "execution_count": 3,
      "metadata": {
        "colab": {
          "base_uri": "https://localhost:8080/"
        },
        "id": "JoFdbN8yS5wv",
        "outputId": "3777f8f1-1cbe-4a3e-8c4f-c587b9bea065"
      },
      "outputs": [
        {
          "name": "stdout",
          "output_type": "stream",
          "text": [
            "Collecting nltk\n",
            "  Using cached nltk-3.9.1-py3-none-any.whl.metadata (2.9 kB)\n",
            "Requirement already satisfied: click in c:\\users\\shash\\miniconda3\\envs\\face_recog_env\\lib\\site-packages (from nltk) (8.1.7)\n",
            "Requirement already satisfied: joblib in c:\\users\\shash\\miniconda3\\envs\\face_recog_env\\lib\\site-packages (from nltk) (1.4.2)\n",
            "Requirement already satisfied: regex>=2021.8.3 in c:\\users\\shash\\miniconda3\\envs\\face_recog_env\\lib\\site-packages (from nltk) (2024.9.11)\n",
            "Requirement already satisfied: tqdm in c:\\users\\shash\\miniconda3\\envs\\face_recog_env\\lib\\site-packages (from nltk) (4.66.5)\n",
            "Requirement already satisfied: colorama in c:\\users\\shash\\miniconda3\\envs\\face_recog_env\\lib\\site-packages (from click->nltk) (0.4.6)\n",
            "Using cached nltk-3.9.1-py3-none-any.whl (1.5 MB)\n",
            "Installing collected packages: nltk\n",
            "Successfully installed nltk-3.9.1\n",
            "Note: you may need to restart the kernel to use updated packages.\n",
            "Requirement already satisfied: xgboost in c:\\users\\shash\\miniconda3\\envs\\face_recog_env\\lib\\site-packages (3.0.1)\n",
            "Requirement already satisfied: numpy in c:\\users\\shash\\miniconda3\\envs\\face_recog_env\\lib\\site-packages (from xgboost) (1.26.4)\n",
            "Requirement already satisfied: scipy in c:\\users\\shash\\miniconda3\\envs\\face_recog_env\\lib\\site-packages (from xgboost) (1.14.1)\n",
            "Note: you may need to restart the kernel to use updated packages.\n"
          ]
        }
      ],
      "source": [
        "%pip install nltk --upgrade\n",
        "%pip install xgboost\n"
      ]
    },
    {
      "cell_type": "code",
      "execution_count": 4,
      "metadata": {
        "colab": {
          "base_uri": "https://localhost:8080/"
        },
        "id": "mze1QVpMSkYw",
        "outputId": "f9404361-7c99-4f6c-9741-e552fc612816"
      },
      "outputs": [
        {
          "name": "stderr",
          "output_type": "stream",
          "text": [
            "[nltk_data] Downloading package punkt to\n",
            "[nltk_data]     C:\\Users\\shash\\AppData\\Roaming\\nltk_data...\n",
            "[nltk_data]   Package punkt is already up-to-date!\n",
            "[nltk_data] Downloading package stopwords to\n",
            "[nltk_data]     C:\\Users\\shash\\AppData\\Roaming\\nltk_data...\n",
            "[nltk_data]   Package stopwords is already up-to-date!\n",
            "[nltk_data] Downloading package wordnet to\n",
            "[nltk_data]     C:\\Users\\shash\\AppData\\Roaming\\nltk_data...\n",
            "[nltk_data]   Package wordnet is already up-to-date!\n"
          ]
        },
        {
          "data": {
            "text/plain": [
              "True"
            ]
          },
          "execution_count": 4,
          "metadata": {},
          "output_type": "execute_result"
        }
      ],
      "source": [
        "import nltk\n",
        "\n",
        "nltk.download('punkt')\n",
        "nltk.download('stopwords')\n",
        "nltk.download('wordnet')\n"
      ]
    },
    {
      "cell_type": "code",
      "execution_count": 5,
      "metadata": {
        "colab": {
          "base_uri": "https://localhost:8080/"
        },
        "id": "igLnLDJmSntj",
        "outputId": "b4ec1d79-0707-4f7e-b7f8-429308c01aaa"
      },
      "outputs": [],
      "source": [
        "import nltk\n",
        "\n",
        "try:\n",
        "    from nltk.tokenize import word_tokenize\n",
        "    # Try using word_tokenize to see if the resource is available\n",
        "    word_tokenize(\"Hello, this is a test sentence.\")\n",
        "except LookupError:\n",
        "    # If the resource is not found, download it\n",
        "    nltk.download('punkt_tab')\n",
        "    from nltk.tokenize import word_tokenize  # Import it again after downloading\n",
        "    print(word_tokenize(\"Hello, this is a test sentence.\")) #testing\n",
        "\n"
      ]
    },
    {
      "cell_type": "code",
      "execution_count": 6,
      "metadata": {
        "colab": {
          "base_uri": "https://localhost:8080/"
        },
        "id": "s49Gwt1pO6dE",
        "outputId": "d1e862f2-9b00-4b6f-f4d8-7bb243a20771"
      },
      "outputs": [
        {
          "name": "stderr",
          "output_type": "stream",
          "text": [
            "[nltk_data] Downloading package punkt to\n",
            "[nltk_data]     C:\\Users\\shash\\AppData\\Roaming\\nltk_data...\n",
            "[nltk_data]   Package punkt is already up-to-date!\n",
            "[nltk_data] Downloading package stopwords to\n",
            "[nltk_data]     C:\\Users\\shash\\AppData\\Roaming\\nltk_data...\n",
            "[nltk_data]   Package stopwords is already up-to-date!\n",
            "[nltk_data] Downloading package wordnet to\n",
            "[nltk_data]     C:\\Users\\shash\\AppData\\Roaming\\nltk_data...\n",
            "[nltk_data]   Package wordnet is already up-to-date!\n"
          ]
        },
        {
          "name": "stdout",
          "output_type": "stream",
          "text": [
            "Introvert vs Extrovert Accuracy: 86.97%\n",
            "Sensing vs Intuition Accuracy: 91.24%\n",
            "Thinking vs Feeling Accuracy: 84.50%\n",
            "Perceiving vs Judging Accuracy: 80.92%\n",
            "✅ All models and CountVectorizer saved.\n",
            "🧠 Predicted MBTI Type: ESTJ\n"
          ]
        }
      ],
      "source": [
        "import pandas as pd\n",
        "import numpy as np\n",
        "import re\n",
        "import nltk\n",
        "import pickle\n",
        "from nltk.corpus import stopwords\n",
        "from nltk.stem import PorterStemmer, WordNetLemmatizer\n",
        "from sklearn.model_selection import train_test_split\n",
        "from sklearn.feature_extraction.text import CountVectorizer\n",
        "from xgboost import XGBClassifier\n",
        "from sklearn.metrics import accuracy_score\n",
        "\n",
        "# === Step 1: Download required NLTK resources ===\n",
        "nltk.download(\"punkt\")\n",
        "nltk.download(\"stopwords\")\n",
        "nltk.download(\"wordnet\")\n",
        "\n",
        "# === Step 2: Load dataset ===\n",
        "ds = pd.read_csv(\"mbti_1.csv\", engine=\"python\")\n",
        "\n",
        "# One-hot encode the 4 MBTI traits\n",
        "ds[\"I_E\"] = ds[\"type\"].apply(lambda x: 1 if x[0] == 'I' else 0)\n",
        "ds[\"N_S\"] = ds[\"type\"].apply(lambda x: 1 if x[1] == 'S' else 0)\n",
        "ds[\"T_F\"] = ds[\"type\"].apply(lambda x: 1 if x[2] == 'T' else 0)\n",
        "ds[\"J_P\"] = ds[\"type\"].apply(lambda x: 1 if x[3] == 'J' else 0)\n",
        "\n",
        "# === Step 3: Clean and preprocess posts ===\n",
        "stop_words = set(stopwords.words('english'))\n",
        "stemmer = PorterStemmer()\n",
        "lemmatizer = WordNetLemmatizer()\n",
        "\n",
        "def clean_text(text):\n",
        "    text = text.lower()\n",
        "    text = re.sub(r'https?:\\/\\/\\S+', '', text)\n",
        "    text = re.sub(r'\\|\\|\\|', ' ', text)\n",
        "    text = re.sub(r'[^a-z\\s]', ' ', text)\n",
        "    tokens = nltk.word_tokenize(text)\n",
        "    tokens = [lemmatizer.lemmatize(stemmer.stem(w)) for w in tokens if w not in stop_words and len(w) > 2]\n",
        "    return ' '.join(tokens)\n",
        "\n",
        "ds[\"clean_posts\"] = ds[\"posts\"].apply(clean_text)\n",
        "ds = ds[ds[\"clean_posts\"].notna()]\n",
        "\n",
        "# === Step 4: Feature extraction with CountVectorizer ===\n",
        "cv = CountVectorizer(max_features=1500)\n",
        "X = cv.fit_transform(ds[\"clean_posts\"]).toarray()\n",
        "y = ds[[\"I_E\", \"N_S\", \"T_F\", \"J_P\"]].values\n",
        "\n",
        "# === Step 5: Train-test split (80:20) ===\n",
        "X_train, X_test, y_train, y_test = train_test_split(X, y, test_size=0.2, random_state=42)\n",
        "\n",
        "# === Step 6: Train and evaluate XGBoost classifiers ===\n",
        "models = []\n",
        "trait_names = [\"Introvert vs Extrovert\", \"Sensing vs Intuition\", \"Thinking vs Feeling\", \"Perceiving vs Judging\"]\n",
        "\n",
        "for i in range(4):\n",
        "    model = XGBClassifier()\n",
        "    model.fit(X_train, y_train[:, i])\n",
        "    preds = model.predict(X_test)\n",
        "    acc = accuracy_score(y_test[:, i], preds) * 100\n",
        "    print(f\"{trait_names[i]} Accuracy: {acc:.2f}%\")\n",
        "    models.append(model)\n",
        "\n",
        "# === Step 7: Save models and vectorizer ===\n",
        "pickle.dump(models[0], open(\"xgb_introv.pkl\", \"wb\"))\n",
        "pickle.dump(models[1], open(\"xgb_sens.pkl\", \"wb\"))\n",
        "pickle.dump(models[2], open(\"xgb_think.pkl\", \"wb\"))\n",
        "pickle.dump(models[3], open(\"xgb_perc.pkl\", \"wb\"))\n",
        "pickle.dump(cv, open(\"cv.pkl\", \"wb\"))\n",
        "print(\"✅ All models and CountVectorizer saved.\")\n",
        "\n",
        "# === Step 8: Final prediction function ===\n",
        "def final_type(predictions):\n",
        "    mbti_map = [[\"E\", \"I\"], [\"N\", \"S\"], [\"T\", \"F\"], [\"J\", \"P\"]]\n",
        "    return \"\".join([mbti_map[i][int(p[0])] for i, p in enumerate(predictions)])\n",
        "\n",
        "def predict_personality(text_input):\n",
        "    # Load vectorizer and models\n",
        "    cv_loaded = pickle.load(open(\"cv.pkl\", \"rb\"))\n",
        "    model_i = pickle.load(open(\"xgb_introv.pkl\", \"rb\"))\n",
        "    model_s = pickle.load(open(\"xgb_sens.pkl\", \"rb\"))\n",
        "    model_t = pickle.load(open(\"xgb_think.pkl\", \"rb\"))\n",
        "    model_p = pickle.load(open(\"xgb_perc.pkl\", \"rb\"))\n",
        "\n",
        "    # Clean and vectorize input\n",
        "    cleaned = clean_text(text_input)\n",
        "    vectorized = cv_loaded.transform([cleaned])\n",
        "\n",
        "    # Predict each trait\n",
        "    predictions = [\n",
        "        model_i.predict(vectorized),\n",
        "        model_s.predict(vectorized),\n",
        "        model_t.predict(vectorized),\n",
        "        model_p.predict(vectorized),\n",
        "    ]\n",
        "    return final_type(predictions)\n",
        "\n",
        "# === Step 9: Example usage ===\n",
        "if __name__ == \"__main__\":\n",
        "    test_input = \"\"\"I love reading and writing about philosophical ideas, and I enjoy spending time alone reflecting.\"\"\"\n",
        "    result = predict_personality(test_input)\n",
        "    print(f\"🧠 Predicted MBTI Type: {result}\")\n"
      ]
    }
  ],
  "metadata": {
    "colab": {
      "provenance": []
    },
    "kernelspec": {
      "display_name": "face_recog_env",
      "language": "python",
      "name": "python3"
    },
    "language_info": {
      "codemirror_mode": {
        "name": "ipython",
        "version": 3
      },
      "file_extension": ".py",
      "mimetype": "text/x-python",
      "name": "python",
      "nbconvert_exporter": "python",
      "pygments_lexer": "ipython3",
      "version": "3.12.4"
    }
  },
  "nbformat": 4,
  "nbformat_minor": 0
}
